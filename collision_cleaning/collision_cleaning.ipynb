{
 "cells": [
  {
   "cell_type": "code",
   "execution_count": 355,
   "metadata": {
    "collapsed": true
   },
   "outputs": [],
   "source": [
    "import pandas as pd \n",
    "import numpy as np\n",
    "from datetime import datetime\n",
    "\n",
    "import matplotlib.pyplot as plt"
   ]
  },
  {
   "cell_type": "code",
   "execution_count": 356,
   "metadata": {
    "collapsed": true
   },
   "outputs": [],
   "source": [
    "df = pd.read_csv('NYPD_Motor_Vehicle_Collisions.csv', index_col = 0, low_memory = False)"
   ]
  },
  {
   "cell_type": "code",
   "execution_count": 357,
   "metadata": {},
   "outputs": [
    {
     "data": {
      "text/plain": [
       "(1149041, 28)"
      ]
     },
     "execution_count": 357,
     "metadata": {},
     "output_type": "execute_result"
    }
   ],
   "source": [
    "df.shape"
   ]
  },
  {
   "cell_type": "code",
   "execution_count": 358,
   "metadata": {},
   "outputs": [
    {
     "data": {
      "text/plain": [
       "Index(['TIME', 'BOROUGH', 'ZIP CODE', 'LATITUDE', 'LONGITUDE', 'LOCATION',\n",
       "       'ON STREET NAME', 'CROSS STREET NAME', 'OFF STREET NAME',\n",
       "       'NUMBER OF PERSONS INJURED', 'NUMBER OF PERSONS KILLED',\n",
       "       'NUMBER OF PEDESTRIANS INJURED', 'NUMBER OF PEDESTRIANS KILLED',\n",
       "       'NUMBER OF CYCLIST INJURED', 'NUMBER OF CYCLIST KILLED',\n",
       "       'NUMBER OF MOTORIST INJURED', 'NUMBER OF MOTORIST KILLED',\n",
       "       'CONTRIBUTING FACTOR VEHICLE 1', 'CONTRIBUTING FACTOR VEHICLE 2',\n",
       "       'CONTRIBUTING FACTOR VEHICLE 3', 'CONTRIBUTING FACTOR VEHICLE 4',\n",
       "       'CONTRIBUTING FACTOR VEHICLE 5', 'UNIQUE KEY', 'VEHICLE TYPE CODE 1',\n",
       "       'VEHICLE TYPE CODE 2', 'VEHICLE TYPE CODE 3', 'VEHICLE TYPE CODE 4',\n",
       "       'VEHICLE TYPE CODE 5'],\n",
       "      dtype='object')"
      ]
     },
     "execution_count": 358,
     "metadata": {},
     "output_type": "execute_result"
    }
   ],
   "source": [
    "df.columns"
   ]
  },
  {
   "cell_type": "code",
   "execution_count": 359,
   "metadata": {
    "collapsed": true
   },
   "outputs": [],
   "source": [
    "df = df.dropna(subset = ['LOCATION'])"
   ]
  },
  {
   "cell_type": "code",
   "execution_count": 360,
   "metadata": {},
   "outputs": [
    {
     "data": {
      "text/plain": [
       "(937672, 28)"
      ]
     },
     "execution_count": 360,
     "metadata": {},
     "output_type": "execute_result"
    }
   ],
   "source": [
    "df.shape"
   ]
  },
  {
   "cell_type": "code",
   "execution_count": 361,
   "metadata": {
    "collapsed": true
   },
   "outputs": [],
   "source": [
    "df['VEHICLE TYPE CODE 1'] = df['VEHICLE TYPE CODE 1'].fillna('')\n",
    "df['VEHICLE TYPE CODE 2'] = df['VEHICLE TYPE CODE 2'].fillna('')\n",
    "df['VEHICLE TYPE CODE 3'] = df['VEHICLE TYPE CODE 3'].fillna('')\n",
    "df['VEHICLE TYPE CODE 4'] = df['VEHICLE TYPE CODE 4'].fillna('')\n",
    "df['VEHICLE TYPE CODE 5'] = df['VEHICLE TYPE CODE 5'].fillna('')"
   ]
  },
  {
   "cell_type": "code",
   "execution_count": 362,
   "metadata": {
    "collapsed": true
   },
   "outputs": [],
   "source": [
    "df['all_vehicle'] = list(map(lambda a,b,c,d,e: a + b + c + d + e, \n",
    "                             df['VEHICLE TYPE CODE 1'],\n",
    "                            df['VEHICLE TYPE CODE 2'],\n",
    "                            df['VEHICLE TYPE CODE 3'],\n",
    "                            df['VEHICLE TYPE CODE 4'],\n",
    "                            df['VEHICLE TYPE CODE 5']))"
   ]
  },
  {
   "cell_type": "markdown",
   "metadata": {},
   "source": [
    "# Generate bike_involved indicator for filtering"
   ]
  },
  {
   "cell_type": "code",
   "execution_count": 363,
   "metadata": {
    "collapsed": true
   },
   "outputs": [],
   "source": [
    "df['bike_involved'] = list(map(lambda x: 'BICYCLE' in x, df['all_vehicle']))"
   ]
  },
  {
   "cell_type": "code",
   "execution_count": 364,
   "metadata": {
    "collapsed": true
   },
   "outputs": [],
   "source": [
    "df['CONTRIBUTING FACTOR VEHICLE 1'] = df['CONTRIBUTING FACTOR VEHICLE 1'].fillna('')\n",
    "df['CONTRIBUTING FACTOR VEHICLE 2'] = df['CONTRIBUTING FACTOR VEHICLE 2'].fillna('')\n",
    "df['CONTRIBUTING FACTOR VEHICLE 3'] = df['CONTRIBUTING FACTOR VEHICLE 3'].fillna('')\n",
    "df['CONTRIBUTING FACTOR VEHICLE 4'] = df['CONTRIBUTING FACTOR VEHICLE 4'].fillna('')\n",
    "df['CONTRIBUTING FACTOR VEHICLE 5'] = df['CONTRIBUTING FACTOR VEHICLE 5'].fillna('')"
   ]
  },
  {
   "cell_type": "code",
   "execution_count": 365,
   "metadata": {
    "collapsed": true
   },
   "outputs": [],
   "source": [
    "df['all_factors'] = list(map(lambda a,b,c,d,e: a +\" \" + b + \" \" +c + \" \" + d + \" \" + e, \n",
    "                             df['CONTRIBUTING FACTOR VEHICLE 1'],\n",
    "                            df['CONTRIBUTING FACTOR VEHICLE 2'],\n",
    "                            df['CONTRIBUTING FACTOR VEHICLE 3'],\n",
    "                            df['CONTRIBUTING FACTOR VEHICLE 4'],\n",
    "                            df['CONTRIBUTING FACTOR VEHICLE 5']))"
   ]
  },
  {
   "cell_type": "code",
   "execution_count": 366,
   "metadata": {
    "collapsed": true
   },
   "outputs": [],
   "source": [
    "factors = {'physical_condition': ['Fatigued/Drowsy', 'Fell Asleep', \n",
    "                                  'Illness',  'Lost Consciousness', \n",
    "                                  'Physical Disability',  'Prescription Medication',  \n",
    "                                  'Alcohol Involvement','Drugs (Illegal)'], \n",
    "           \n",
    "           'car_condition': ['Accelerator Defective',\n",
    "                             'Brakes Defective', 'Headlights Defective',\n",
    "                             'Steering Failure', 'Tow Hitch Defective', \n",
    "                             'Windshield Inadequate',\n",
    "                             'Tire Failure/Inadequate', 'Other Vehicular', 'View Obstructed/Limited'],\n",
    "           \n",
    "           'road_condition': ['Lane Marking Improper/Inadequate','Obstruction/Debris', \n",
    "                              'Other Lighting Defects', 'Pavement Defective', \n",
    "                              'Pavement Slippery', 'Shoulders Defective/Improper',\n",
    "                              'Traffic Control Device Improper/Non-Working', \n",
    "                              'Driverless/Runaway Vehicle', 'Animals Action'], \n",
    "           \n",
    "           'behavoral': ['Aggressive Driving/Road Rage', 'Backing Unsafely',\n",
    "                                   'Cell Phone (hand-held)', 'Cell Phone (hands-free)', \n",
    "                                   'Driver Inattention/Distraction',  \n",
    "                                   'Driver Inexperience', 'Failure to Keep Right',\n",
    "                                   'Failure to Yield Right-of-Way','Following Too Closely', \n",
    "                                   'Other Electronic Device', 'Outside Car Distraction',\n",
    "                                   'Oversized Vehicle', 'Passenger Distraction', \n",
    "                                   'Passing or Lane Usage Improper', \n",
    "                                   'Reaction to Other Uninvolved Vehicle', \n",
    "                                   'Traffic Control Disregarded', 'Turning Improperly', \n",
    "                                   'Unsafe Lane Changing', 'Unsafe Speed', \n",
    "                            'Pedestrian/Bicyclist/Other Pedestrian Error/Confusion'], \n",
    "           \n",
    "           'other': ['Unspecified'] \n",
    "\n",
    "          }\n"
   ]
  },
  {
   "cell_type": "code",
   "execution_count": 367,
   "metadata": {
    "collapsed": true
   },
   "outputs": [],
   "source": [
    "def matching(category, strings):\n",
    "    category_list = factors[category]\n",
    "    bool_list = list(map(lambda x: x in strings, category_list))\n",
    "    score = sum(bool_list)\n",
    "    return(int(score != 0))"
   ]
  },
  {
   "cell_type": "markdown",
   "metadata": {},
   "source": [
    "# Generate dummy variables for different factors"
   ]
  },
  {
   "cell_type": "code",
   "execution_count": 368,
   "metadata": {
    "collapsed": true
   },
   "outputs": [],
   "source": [
    "df['physical_condition'] = 0\n",
    "df['car_condition'] = 0\n",
    "df['road_condition'] = 0\n",
    "df['behavoral'] = 0\n",
    "df['other'] = 0"
   ]
  },
  {
   "cell_type": "code",
   "execution_count": 369,
   "metadata": {},
   "outputs": [],
   "source": [
    "df['physical_condition'] = list(map(lambda x: matching('physical_condition', x), df.all_factors))\n",
    "df['car_condition'] = list(map(lambda x: matching('car_condition', x), df.all_factors))\n",
    "df['road_condition'] = list(map(lambda x: matching('road_condition', x), df.all_factors))\n",
    "df['behavoral'] = list(map(lambda x: matching('behavoral', x), df.all_factors))\n",
    "df['other'] = list(map(lambda x: matching('other', x), df.all_factors))"
   ]
  },
  {
   "cell_type": "markdown",
   "metadata": {},
   "source": [
    "# Generate summary plots"
   ]
  },
  {
   "cell_type": "code",
   "execution_count": 370,
   "metadata": {
    "collapsed": true
   },
   "outputs": [],
   "source": [
    "df = df[df.bike_involved == 1]"
   ]
  },
  {
   "cell_type": "code",
   "execution_count": 377,
   "metadata": {},
   "outputs": [
    {
     "data": {
      "text/plain": [
       "(25725, 40)"
      ]
     },
     "execution_count": 377,
     "metadata": {},
     "output_type": "execute_result"
    }
   ],
   "source": [
    "df.shape"
   ]
  },
  {
   "cell_type": "code",
   "execution_count": 371,
   "metadata": {},
   "outputs": [],
   "source": [
    "df['hour'] = list(map(lambda x: int(x.split(':')[0]), df.TIME))"
   ]
  },
  {
   "cell_type": "code",
   "execution_count": 372,
   "metadata": {},
   "outputs": [],
   "source": [
    "df['month'] = list(map(lambda x: int(x.split('/')[0]), df.index)) \n",
    "df['day'] = list(map(lambda x: int(x.split('/')[1]), df.index)) \n",
    "df['year'] = list(map(lambda x: int(x.split('/')[2]), df.index)) "
   ]
  },
  {
   "cell_type": "code",
   "execution_count": 385,
   "metadata": {},
   "outputs": [
    {
     "data": {
      "image/png": "[encoded data removed]",
      "text/plain": [
       "<matplotlib.figure.Figure at 0x240ac316748>"
      ]
     },
     "metadata": {},
     "output_type": "display_data"
    }
   ],
   "source": [
    "plt.hist(df.year, bins = 6)\n",
    "plt.show()"
   ]
  },
  {
   "cell_type": "code",
   "execution_count": 384,
   "metadata": {},
   "outputs": [
    {
     "data": {
      "image/png": "[encoded data removed]",
      "text/plain": [
       "<matplotlib.figure.Figure at 0x240a71477b8>"
      ]
     },
     "metadata": {},
     "output_type": "display_data"
    }
   ],
   "source": [
    "fig, axes = plt.subplots(nrows=2, ncols=2, figsize=(15,15))\n",
    "ax0, ax1, ax2, ax3 = axes.flatten()\n",
    "\n",
    "ax0.hist(df.hour, bins = 24, width = 1)\n",
    "ax0.set_xticks(np.arange(0, 24))\n",
    "ax0.set_xlabel('Hour')\n",
    "ax0.set_ylabel('Percentage')\n",
    "\n",
    "ax1.hist(df.month, bins = 12, width = 1)\n",
    "ax1.set_xticks(np.arange(1, 12))\n",
    "ax1.set_xlabel('Month')\n",
    "ax1.set_ylabel('Percentage')\n",
    "\n",
    "x = ('physical_condition','car_condition','road_condition','behavoral','other')\n",
    "y = [sum(df.physical_condition), sum(df.car_condition), sum(df.road_condition), sum(df.behavoral), sum(df.other)]\n",
    "ax2.bar(np.arange(5), y)\n",
    "ax2.set_xticks(np.arange(5))\n",
    "ax2.set_xticklabels(x, rotation = 17)\n",
    "ax2.set_ylabel('Count')\n",
    "\n",
    "x1 = ('Bronx', 'Brooklyn', 'Manhattan', 'Queens', 'Staten Island')\n",
    "ax3.bar(np.arange(5), df.groupby(['BOROUGH'])['BOROUGH'].count())\n",
    "ax3.set_xticks(np.arange(5))\n",
    "ax3.set_xticklabels(x1, rotation = 17)\n",
    "ax3.set_ylabel('Count')\n",
    "\n",
    "#fig.savefig('summary_plots.png')\n",
    "plt.show()"
   ]
  },
  {
   "cell_type": "code",
   "execution_count": 376,
   "metadata": {},
   "outputs": [
    {
     "data": {
      "text/html": [
       "<div>\n",
       "<style>\n",
       "    .dataframe thead tr:only-child th {\n",
       "        text-align: right;\n",
       "    }\n",
       "\n",
       "    .dataframe thead th {\n",
       "        text-align: left;\n",
       "    }\n",
       "\n",
       "    .dataframe tbody tr th {\n",
       "        vertical-align: top;\n",
       "    }\n",
       "</style>\n",
       "<table border=\"1\" class=\"dataframe\">\n",
       "  <thead>\n",
       "    <tr style=\"text-align: right;\">\n",
       "      <th></th>\n",
       "      <th>NUMBER OF PEDESTRIANS INJURED</th>\n",
       "      <th>NUMBER OF PEDESTRIANS KILLED</th>\n",
       "      <th>NUMBER OF CYCLIST INJURED</th>\n",
       "      <th>NUMBER OF CYCLIST KILLED</th>\n",
       "      <th>NUMBER OF MOTORIST INJURED</th>\n",
       "      <th>NUMBER OF MOTORIST KILLED</th>\n",
       "      <th>physical_condition</th>\n",
       "      <th>car_condition</th>\n",
       "      <th>road_condition</th>\n",
       "      <th>behavoral</th>\n",
       "      <th>other</th>\n",
       "    </tr>\n",
       "  </thead>\n",
       "  <tbody>\n",
       "    <tr>\n",
       "      <th>count</th>\n",
       "      <td>25725.000</td>\n",
       "      <td>25725.000</td>\n",
       "      <td>25725.000</td>\n",
       "      <td>25725.000</td>\n",
       "      <td>25725.000</td>\n",
       "      <td>25725.000</td>\n",
       "      <td>25725.000</td>\n",
       "      <td>25725.000</td>\n",
       "      <td>25725.000</td>\n",
       "      <td>25725.000</td>\n",
       "      <td>25725.000</td>\n",
       "    </tr>\n",
       "    <tr>\n",
       "      <th>mean</th>\n",
       "      <td>0.018</td>\n",
       "      <td>0.000</td>\n",
       "      <td>0.771</td>\n",
       "      <td>0.003</td>\n",
       "      <td>0.015</td>\n",
       "      <td>0.000</td>\n",
       "      <td>0.088</td>\n",
       "      <td>0.046</td>\n",
       "      <td>0.007</td>\n",
       "      <td>0.454</td>\n",
       "      <td>0.807</td>\n",
       "    </tr>\n",
       "    <tr>\n",
       "      <th>std</th>\n",
       "      <td>0.139</td>\n",
       "      <td>0.006</td>\n",
       "      <td>0.444</td>\n",
       "      <td>0.053</td>\n",
       "      <td>0.147</td>\n",
       "      <td>0.009</td>\n",
       "      <td>0.283</td>\n",
       "      <td>0.210</td>\n",
       "      <td>0.085</td>\n",
       "      <td>0.498</td>\n",
       "      <td>0.394</td>\n",
       "    </tr>\n",
       "    <tr>\n",
       "      <th>min</th>\n",
       "      <td>0.000</td>\n",
       "      <td>0.000</td>\n",
       "      <td>0.000</td>\n",
       "      <td>0.000</td>\n",
       "      <td>0.000</td>\n",
       "      <td>0.000</td>\n",
       "      <td>0.000</td>\n",
       "      <td>0.000</td>\n",
       "      <td>0.000</td>\n",
       "      <td>0.000</td>\n",
       "      <td>0.000</td>\n",
       "    </tr>\n",
       "    <tr>\n",
       "      <th>25%</th>\n",
       "      <td>0.000</td>\n",
       "      <td>0.000</td>\n",
       "      <td>1.000</td>\n",
       "      <td>0.000</td>\n",
       "      <td>0.000</td>\n",
       "      <td>0.000</td>\n",
       "      <td>0.000</td>\n",
       "      <td>0.000</td>\n",
       "      <td>0.000</td>\n",
       "      <td>0.000</td>\n",
       "      <td>1.000</td>\n",
       "    </tr>\n",
       "    <tr>\n",
       "      <th>50%</th>\n",
       "      <td>0.000</td>\n",
       "      <td>0.000</td>\n",
       "      <td>1.000</td>\n",
       "      <td>0.000</td>\n",
       "      <td>0.000</td>\n",
       "      <td>0.000</td>\n",
       "      <td>0.000</td>\n",
       "      <td>0.000</td>\n",
       "      <td>0.000</td>\n",
       "      <td>0.000</td>\n",
       "      <td>1.000</td>\n",
       "    </tr>\n",
       "    <tr>\n",
       "      <th>75%</th>\n",
       "      <td>0.000</td>\n",
       "      <td>0.000</td>\n",
       "      <td>1.000</td>\n",
       "      <td>0.000</td>\n",
       "      <td>0.000</td>\n",
       "      <td>0.000</td>\n",
       "      <td>0.000</td>\n",
       "      <td>0.000</td>\n",
       "      <td>0.000</td>\n",
       "      <td>1.000</td>\n",
       "      <td>1.000</td>\n",
       "    </tr>\n",
       "    <tr>\n",
       "      <th>max</th>\n",
       "      <td>3.000</td>\n",
       "      <td>1.000</td>\n",
       "      <td>4.000</td>\n",
       "      <td>1.000</td>\n",
       "      <td>6.000</td>\n",
       "      <td>1.000</td>\n",
       "      <td>1.000</td>\n",
       "      <td>1.000</td>\n",
       "      <td>1.000</td>\n",
       "      <td>1.000</td>\n",
       "      <td>1.000</td>\n",
       "    </tr>\n",
       "  </tbody>\n",
       "</table>\n",
       "</div>"
      ],
      "text/plain": [
       "       NUMBER OF PEDESTRIANS INJURED  NUMBER OF PEDESTRIANS KILLED  \\\n",
       "count                      25725.000                     25725.000   \n",
       "mean                           0.018                         0.000   \n",
       "std                            0.139                         0.006   \n",
       "min                            0.000                         0.000   \n",
       "25%                            0.000                         0.000   \n",
       "50%                            0.000                         0.000   \n",
       "75%                            0.000                         0.000   \n",
       "max                            3.000                         1.000   \n",
       "\n",
       "       NUMBER OF CYCLIST INJURED  NUMBER OF CYCLIST KILLED  \\\n",
       "count                  25725.000                 25725.000   \n",
       "mean                       0.771                     0.003   \n",
       "std                        0.444                     0.053   \n",
       "min                        0.000                     0.000   \n",
       "25%                        1.000                     0.000   \n",
       "50%                        1.000                     0.000   \n",
       "75%                        1.000                     0.000   \n",
       "max                        4.000                     1.000   \n",
       "\n",
       "       NUMBER OF MOTORIST INJURED  NUMBER OF MOTORIST KILLED  \\\n",
       "count                   25725.000                  25725.000   \n",
       "mean                        0.015                      0.000   \n",
       "std                         0.147                      0.009   \n",
       "min                         0.000                      0.000   \n",
       "25%                         0.000                      0.000   \n",
       "50%                         0.000                      0.000   \n",
       "75%                         0.000                      0.000   \n",
       "max                         6.000                      1.000   \n",
       "\n",
       "       physical_condition  car_condition  road_condition  behavoral      other  \n",
       "count           25725.000      25725.000       25725.000  25725.000  25725.000  \n",
       "mean                0.088          0.046           0.007      0.454      0.807  \n",
       "std                 0.283          0.210           0.085      0.498      0.394  \n",
       "min                 0.000          0.000           0.000      0.000      0.000  \n",
       "25%                 0.000          0.000           0.000      0.000      1.000  \n",
       "50%                 0.000          0.000           0.000      0.000      1.000  \n",
       "75%                 0.000          0.000           0.000      1.000      1.000  \n",
       "max                 1.000          1.000           1.000      1.000      1.000  "
      ]
     },
     "execution_count": 376,
     "metadata": {},
     "output_type": "execute_result"
    }
   ],
   "source": [
    "df[['NUMBER OF PEDESTRIANS INJURED', 'NUMBER OF PEDESTRIANS KILLED',\n",
    "    'NUMBER OF CYCLIST INJURED', 'NUMBER OF CYCLIST KILLED',\n",
    "    'NUMBER OF MOTORIST INJURED', 'NUMBER OF MOTORIST KILLED',\n",
    "    'physical_condition', 'car_condition', \n",
    "    'road_condition', 'behavoral', 'other']].describe().round(3)"
   ]
  }
 ],
 "metadata": {
  "kernelspec": {
   "display_name": "Python 3",
   "language": "python",
   "name": "python3"
  },
  "language_info": {
   "codemirror_mode": {
    "name": "ipython",
    "version": 3
   },
   "file_extension": ".py",
   "mimetype": "text/x-python",
   "name": "python",
   "nbconvert_exporter": "python",
   "pygments_lexer": "ipython3",
   "version": "3.6.1"
  }
 },
 "nbformat": 4,
 "nbformat_minor": 2
}
