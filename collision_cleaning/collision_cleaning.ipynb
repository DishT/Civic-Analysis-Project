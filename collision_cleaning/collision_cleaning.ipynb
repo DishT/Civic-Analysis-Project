{
 "cells": [
  {
   "cell_type": "code",
   "execution_count": 28,
   "metadata": {
    "collapsed": true
   },
   "outputs": [],
   "source": [
    "import pandas as pd \n",
    "import numpy as np"
   ]
  },
  {
   "cell_type": "code",
   "execution_count": 63,
   "metadata": {},
   "outputs": [],
   "source": [
    "df = pd.read_csv('NYPD_Motor_Vehicle_Collisions.csv', index_col = 0, low_memory = False)"
   ]
  },
  {
   "cell_type": "code",
   "execution_count": 64,
   "metadata": {},
   "outputs": [
    {
     "data": {
      "text/plain": [
       "(1149041, 28)"
      ]
     },
     "execution_count": 64,
     "metadata": {},
     "output_type": "execute_result"
    }
   ],
   "source": [
    "df.shape"
   ]
  },
  {
   "cell_type": "code",
   "execution_count": 65,
   "metadata": {},
   "outputs": [
    {
     "data": {
      "text/plain": [
       "Index(['TIME', 'BOROUGH', 'ZIP CODE', 'LATITUDE', 'LONGITUDE', 'LOCATION',\n",
       "       'ON STREET NAME', 'CROSS STREET NAME', 'OFF STREET NAME',\n",
       "       'NUMBER OF PERSONS INJURED', 'NUMBER OF PERSONS KILLED',\n",
       "       'NUMBER OF PEDESTRIANS INJURED', 'NUMBER OF PEDESTRIANS KILLED',\n",
       "       'NUMBER OF CYCLIST INJURED', 'NUMBER OF CYCLIST KILLED',\n",
       "       'NUMBER OF MOTORIST INJURED', 'NUMBER OF MOTORIST KILLED',\n",
       "       'CONTRIBUTING FACTOR VEHICLE 1', 'CONTRIBUTING FACTOR VEHICLE 2',\n",
       "       'CONTRIBUTING FACTOR VEHICLE 3', 'CONTRIBUTING FACTOR VEHICLE 4',\n",
       "       'CONTRIBUTING FACTOR VEHICLE 5', 'UNIQUE KEY', 'VEHICLE TYPE CODE 1',\n",
       "       'VEHICLE TYPE CODE 2', 'VEHICLE TYPE CODE 3', 'VEHICLE TYPE CODE 4',\n",
       "       'VEHICLE TYPE CODE 5'],\n",
       "      dtype='object')"
      ]
     },
     "execution_count": 65,
     "metadata": {},
     "output_type": "execute_result"
    }
   ],
   "source": [
    "df.columns"
   ]
  },
  {
   "cell_type": "code",
   "execution_count": 66,
   "metadata": {},
   "outputs": [],
   "source": [
    "df['VEHICLE TYPE CODE 1'] = df['VEHICLE TYPE CODE 1'].fillna('')\n",
    "df['VEHICLE TYPE CODE 2'] = df['VEHICLE TYPE CODE 2'].fillna('')\n",
    "df['VEHICLE TYPE CODE 3'] = df['VEHICLE TYPE CODE 3'].fillna('')\n",
    "df['VEHICLE TYPE CODE 4'] = df['VEHICLE TYPE CODE 4'].fillna('')\n",
    "df['VEHICLE TYPE CODE 5'] = df['VEHICLE TYPE CODE 5'].fillna('')"
   ]
  },
  {
   "cell_type": "code",
   "execution_count": 67,
   "metadata": {},
   "outputs": [
    {
     "data": {
      "text/plain": [
       "array(['', '3D', 'AM', 'AMBUL', 'AMBULANCE', 'AR', 'Ambul', 'BA', 'BACKH',\n",
       "       'BICYCLE', 'BOBCA', 'BOX T', 'BR', 'BU', 'BUS', 'CB', 'CM', 'CO',\n",
       "       'COMME', 'CONV', 'Car C', 'Comme', 'Crane', 'DELIV', 'DP', 'DS',\n",
       "       'DUMP', 'EBIKE', 'ELECT', 'FB', 'FDNY', 'FIRE TRUCK', 'FIRET',\n",
       "       'FLAT', 'FORKL', 'FR', 'Ford', 'G OMR', 'GE/SC', 'GG', 'Ice C',\n",
       "       'LARGE COM VEH(6 OR MORE TIRES)', 'LF', 'LIVERY VEHICLE', 'LL',\n",
       "       'LW', 'MACK', 'MB', 'MD', 'MOTOR', 'MOTORCYCLE', 'MS', 'OP',\n",
       "       'OTHER', 'PASSENGER VEHICLE', 'PEDICAB', 'PICK-UP TRUCK', 'PK',\n",
       "       'PM', 'POSTA', 'PSR', 'Pavin', 'RF', 'RV', 'Road', 'SCHOO',\n",
       "       'SCOOTER', 'SEMI', 'SMALL COM VEH(4 TIRES) ',\n",
       "       'SPORT UTILITY / STATION WAGON', 'SPRIN', 'ST', 'ST150', 'STREE',\n",
       "       'Scoot', 'TAN P', 'TAXI', 'TK', 'TN', 'TOW T', 'TR', 'TRACT',\n",
       "       'TRAIL', 'TRUCK', 'TT', 'UNKNOWN', 'UTIL', 'UTILI', 'Util', 'VAN',\n",
       "       'VAN T', 'VC', 'VN', 'VT', 'Van', 'ambul', 'bus', 'east', 'horse',\n",
       "       'sanit', 'schoo', 'subn', 'tank', 'tk', 'trail', 'truck', 'unk',\n",
       "       'van'], dtype=object)"
      ]
     },
     "execution_count": 67,
     "metadata": {},
     "output_type": "execute_result"
    }
   ],
   "source": [
    "np.unique(df['VEHICLE TYPE CODE 1'])"
   ]
  },
  {
   "cell_type": "code",
   "execution_count": 69,
   "metadata": {
    "collapsed": true
   },
   "outputs": [],
   "source": [
    "df['all_vehicle'] = list(map(lambda a,b,c,d,e: a + b + c + d + e, \n",
    "                             df['VEHICLE TYPE CODE 1'],\n",
    "                            df['VEHICLE TYPE CODE 2'],\n",
    "                            df['VEHICLE TYPE CODE 3'],\n",
    "                            df['VEHICLE TYPE CODE 4'],\n",
    "                            df['VEHICLE TYPE CODE 5']))"
   ]
  },
  {
   "cell_type": "code",
   "execution_count": 70,
   "metadata": {
    "collapsed": true
   },
   "outputs": [],
   "source": [
    "df['bike_involved'] = list(map(lambda x: 'BICYCLE' in x, df['all_vehicle']))"
   ]
  },
  {
   "cell_type": "code",
   "execution_count": 72,
   "metadata": {
    "collapsed": true
   },
   "outputs": [],
   "source": [
    "df['CONTRIBUTING FACTOR VEHICLE 1'] = df['CONTRIBUTING FACTOR VEHICLE 1'].fillna('')\n",
    "df['CONTRIBUTING FACTOR VEHICLE 2'] = df['CONTRIBUTING FACTOR VEHICLE 2'].fillna('')\n",
    "df['CONTRIBUTING FACTOR VEHICLE 3'] = df['CONTRIBUTING FACTOR VEHICLE 3'].fillna('')\n",
    "df['CONTRIBUTING FACTOR VEHICLE 4'] = df['CONTRIBUTING FACTOR VEHICLE 4'].fillna('')\n",
    "df['CONTRIBUTING FACTOR VEHICLE 5'] = df['CONTRIBUTING FACTOR VEHICLE 5'].fillna('')"
   ]
  },
  {
   "cell_type": "code",
   "execution_count": 78,
   "metadata": {
    "collapsed": true
   },
   "outputs": [],
   "source": [
    "df['all_factors'] = list(map(lambda a,b,c,d,e: a +\" \" + b + \" \" +c + \" \" + d + \" \" + e, \n",
    "                             df['CONTRIBUTING FACTOR VEHICLE 1'],\n",
    "                            df['CONTRIBUTING FACTOR VEHICLE 2'],\n",
    "                            df['CONTRIBUTING FACTOR VEHICLE 3'],\n",
    "                            df['CONTRIBUTING FACTOR VEHICLE 4'],\n",
    "                            df['CONTRIBUTING FACTOR VEHICLE 5']))"
   ]
  },
  {
   "cell_type": "code",
   "execution_count": 82,
   "metadata": {},
   "outputs": [
    {
     "data": {
      "text/plain": [
       "2342"
      ]
     },
     "execution_count": 82,
     "metadata": {},
     "output_type": "execute_result"
    }
   ],
   "source": [
    "sum(list(map(lambda x:  'Bicyclist' in x, df.all_factors)))"
   ]
  },
  {
   "cell_type": "code",
   "execution_count": 83,
   "metadata": {
    "collapsed": true
   },
   "outputs": [],
   "source": [
    "factors = {'physical_condition': ['Fatigued/Drowsy', 'Fell Asleep', \n",
    "                                  'Illness',  'Lost Consciousness', \n",
    "                                  'Physical Disability',  'Prescription Medication',  \n",
    "                                  'Alcohol Involvement','Drugs (Illegal)'], \n",
    "           \n",
    "           'car_condition': ['Accelerator Defective',\n",
    "                             'Brakes Defective', 'Headlights Defective',\n",
    "                             'Steering Failure', 'Tow Hitch Defective', \n",
    "                             'Windshield Inadequate',\n",
    "                             'Tire Failure/Inadequate', 'Other Vehicular'],\n",
    "           \n",
    "           'Road_condition': ['Lane Marking Improper/Inadequate','Obstruction/Debris', \n",
    "                              'Other Lighting Defects', 'Pavement Defective', \n",
    "                              'Pavement Slippery', 'Shoulders Defective/Improper',\n",
    "                              'Traffic Control Device Improper/Non-Working'], \n",
    "           \n",
    "           'Poor_driving': ['Aggressive Driving/Road Rage', 'Backing Unsafely',\n",
    "                                   'Cell Phone (hand-held)', 'Cell Phone (hands-free)', \n",
    "                                   'Driver Inattention/Distraction',  \n",
    "                                   'Driver Inexperience', 'Failure to Keep Right',\n",
    "                                   'Failure to Yield Right-of-Way','Following Too Closely', \n",
    "                                   'Other Electronic Device', 'Outside Car Distraction',\n",
    "                                   'Oversized Vehicle', 'Passenger Distraction', \n",
    "                                   'Passing or Lane Usage Improper', \n",
    "                                   'Reaction to Other Uninvolved Vehicle', \n",
    "                                   'Traffic Control Disregarded', 'Turning Improperly', \n",
    "                                   'Unsafe Lane Changing', 'Unsafe Speed'], \n",
    "           \n",
    "           'Other': ['Unspecified','View Obstructed/Limited',  \n",
    "                     'Animals Action', 'Driverless/Runaway Vehicle', \n",
    "                     'Pedestrian/Bicyclist/Other Pedestrian Error/Confusion'] \n",
    "          }\n"
   ]
  },
  {
   "cell_type": "code",
   "execution_count": null,
   "metadata": {
    "collapsed": true
   },
   "outputs": [],
   "source": []
  }
 ],
 "metadata": {
  "kernelspec": {
   "display_name": "Python 3",
   "language": "python",
   "name": "python3"
  },
  "language_info": {
   "codemirror_mode": {
    "name": "ipython",
    "version": 3
   },
   "file_extension": ".py",
   "mimetype": "text/x-python",
   "name": "python",
   "nbconvert_exporter": "python",
   "pygments_lexer": "ipython3",
   "version": "3.6.1"
  }
 },
 "nbformat": 4,
 "nbformat_minor": 2
}
